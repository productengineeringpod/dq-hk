{
 "cells": [
  {
   "cell_type": "markdown",
   "metadata": {},
   "source": [
    "### Objective\n",
    "\n",
    "We are using the data Hacker News to answer the below two questions \n",
    "\n",
    "- Do `Ask HN` or `Show HN` receive more comments on average ?\n",
    "- Do posts created at a certain time receive more comments on average ?\n",
    "\n",
    "Source of data - [Kaggle](https://www.kaggle.com/hacker-news/hacker-news-posts)"
   ]
  },
  {
   "cell_type": "markdown",
   "metadata": {},
   "source": [
    "We load the libraries and data set as a list of lists."
   ]
  },
  {
   "cell_type": "code",
   "execution_count": 8,
   "metadata": {},
   "outputs": [],
   "source": [
    "from csv import reader\n",
    "hacker_news_csv = open(\"hacker_news.csv\")\n",
    "dataset = reader(hacker_news_csv)\n",
    "hn = list(dataset)"
   ]
  },
  {
   "cell_type": "markdown",
   "metadata": {},
   "source": [
    "Displaying the first few rows"
   ]
  },
  {
   "cell_type": "code",
   "execution_count": 9,
   "metadata": {},
   "outputs": [
    {
     "name": "stdout",
     "output_type": "stream",
     "text": [
      "[['id', 'title', 'url', 'num_points', 'num_comments', 'author', 'created_at'], ['12224879', 'Interactive Dynamic Video', 'http://www.interactivedynamicvideo.com/', '386', '52', 'ne0phyte', '8/4/2016 11:52'], ['10975351', 'How to Use Open Source and Shut the Fuck Up at the Same Time', 'http://hueniverse.com/2016/01/26/how-to-use-open-source-and-shut-the-fuck-up-at-the-same-time/', '39', '10', 'josep2', '1/26/2016 19:30'], ['11964716', \"Florida DJs May Face Felony for April Fools' Water Joke\", 'http://www.thewire.com/entertainment/2013/04/florida-djs-april-fools-water-joke/63798/', '2', '1', 'vezycash', '6/23/2016 22:20'], ['11919867', 'Technology ventures: From Idea to Enterprise', 'https://www.amazon.com/Technology-Ventures-Enterprise-Thomas-Byers/dp/0073523429', '3', '1', 'hswarna', '6/17/2016 0:01']]\n"
     ]
    }
   ],
   "source": [
    "print(hn[:5])"
   ]
  },
  {
   "cell_type": "markdown",
   "metadata": {},
   "source": [
    "Here is the description of the columns\n",
    "\n",
    "- id: the unique identifier from Hacker News for the post\n",
    "- title: the title of the post\n",
    "- url: the URL that the posts links to, if the post has a URL\n",
    "- num_points: the number of points the post acquired, calculated as the total number of upvotes minus the total number of downvotes\n",
    "- num_comments: the number of comments on the post\n",
    "- author: the username of the person who submitted the post\n",
    "created_at: the date and time of the post's submission"
   ]
  },
  {
   "cell_type": "markdown",
   "metadata": {},
   "source": [
    "Storing the headers in a separate list and removing from the main dataset"
   ]
  },
  {
   "cell_type": "code",
   "execution_count": 11,
   "metadata": {},
   "outputs": [
    {
     "name": "stdout",
     "output_type": "stream",
     "text": [
      "[['id', 'title', 'url', 'num_points', 'num_comments', 'author', 'created_at']]\n",
      "[['12224879', 'Interactive Dynamic Video', 'http://www.interactivedynamicvideo.com/', '386', '52', 'ne0phyte', '8/4/2016 11:52'], ['10975351', 'How to Use Open Source and Shut the Fuck Up at the Same Time', 'http://hueniverse.com/2016/01/26/how-to-use-open-source-and-shut-the-fuck-up-at-the-same-time/', '39', '10', 'josep2', '1/26/2016 19:30'], ['11964716', \"Florida DJs May Face Felony for April Fools' Water Joke\", 'http://www.thewire.com/entertainment/2013/04/florida-djs-april-fools-water-joke/63798/', '2', '1', 'vezycash', '6/23/2016 22:20'], ['11919867', 'Technology ventures: From Idea to Enterprise', 'https://www.amazon.com/Technology-Ventures-Enterprise-Thomas-Byers/dp/0073523429', '3', '1', 'hswarna', '6/17/2016 0:01'], ['10301696', 'Note by Note: The Making of Steinway L1037 (2007)', 'http://www.nytimes.com/2007/11/07/movies/07stein.html?_r=0', '8', '2', 'walterbell', '9/30/2015 4:12']]\n"
     ]
    }
   ],
   "source": [
    "headers = hn[:1]\n",
    "print(headers)\n",
    "\n",
    "hn = hn[1:]\n",
    "print(hn[:5])"
   ]
  },
  {
   "cell_type": "markdown",
   "metadata": {},
   "source": [
    "Since we're only concerned with post titles beginning with Ask HN or Show HN, we'll create new lists of lists containing just the data for those titles."
   ]
  },
  {
   "cell_type": "code",
   "execution_count": 16,
   "metadata": {},
   "outputs": [
    {
     "name": "stdout",
     "output_type": "stream",
     "text": [
      "Number of posts in Ask HN is 1744\n",
      "Number of posts in Show HN is 1162\n",
      "Number of other posts are 17194\n"
     ]
    }
   ],
   "source": [
    "ask_posts = []\n",
    "show_posts = []\n",
    "other_posts = []\n",
    "\n",
    "for post in hn:\n",
    "    title = post[1]\n",
    "    if title.lower().startswith(\"ask hn\"):\n",
    "        ask_posts.append(post)\n",
    "    elif title.lower().startswith(\"show hn\"):\n",
    "        show_posts.append(post)\n",
    "    else:\n",
    "        other_posts.append(post)\n",
    "        \n",
    "print(\"Number of posts in Ask HN is {}.\".format(len(ask_posts)))\n",
    "print(\"Number of posts in Show HN is {}.\".format(len(show_posts)))\n",
    "print(\"Number of other posts are {}.\".format(len(other_posts)))\n",
    "    "
   ]
  },
  {
   "cell_type": "markdown",
   "metadata": {},
   "source": [
    "### Let us see if posts in ask_posts and show_posts receive more comments on average"
   ]
  },
  {
   "cell_type": "code",
   "execution_count": 20,
   "metadata": {},
   "outputs": [
    {
     "name": "stdout",
     "output_type": "stream",
     "text": [
      "Average comments on a post with Ask HN: 14.04\n",
      "Average comments on a post with Show HN: 10.32\n",
      "Average comments on other posts: 26.87\n"
     ]
    }
   ],
   "source": [
    "def count_comments(posts):\n",
    "    total_comments = 0\n",
    "    for post in posts:\n",
    "        total_comments += int(post[4])\n",
    "    return total_comments\n",
    "\n",
    "total_comments_on_ask_posts = count_comments(ask_posts)\n",
    "avg_ask_comments = total_comments_on_ask_posts / len(ask_posts)\n",
    "print(\"Average comments on a post with Ask HN: {0:.2f}\".format(avg_ask_comments))\n",
    "\n",
    "total_comments_on_show_posts = count_comments(show_posts)\n",
    "avg_show_comments = total_comments_on_show_posts / len(show_posts)\n",
    "print(\"Average comments on a post with Show HN: {0:.2f}\".format(avg_show_comments))\n",
    "\n",
    "total_comments_on_other_posts = count_comments(other_posts)\n",
    "avg_other_comments = total_comments_on_other_posts / len(other_posts)\n",
    "print(\"Average comments on other posts: {0:.2f}\".format(avg_other_comments))"
   ]
  },
  {
   "cell_type": "markdown",
   "metadata": {},
   "source": [
    "As we can see, while Ask HN posts receive more comments on average than Show HN; it is the other posts which receive the maximum average comments - almost double of that on Ask HN.\n",
    "\n",
    "Ask HN posts, on an average receive almost 40% more comments than Show HN. Let is focus our remaining analysis here."
   ]
  },
  {
   "cell_type": "markdown",
   "metadata": {},
   "source": [
    "### Let us know determine of a ask post created at a certain time will attract more comments or not."
   ]
  },
  {
   "cell_type": "markdown",
   "metadata": {},
   "source": [
    "Let us look at the first few rows."
   ]
  },
  {
   "cell_type": "code",
   "execution_count": 21,
   "metadata": {},
   "outputs": [
    {
     "name": "stdout",
     "output_type": "stream",
     "text": [
      "[['12296411', 'Ask HN: How to improve my personal website?', '', '2', '6', 'ahmedbaracat', '8/16/2016 9:55'], ['10610020', 'Ask HN: Am I the only one outraged by Twitter shutting down share counts?', '', '28', '29', 'tkfx', '11/22/2015 13:43'], ['11610310', 'Ask HN: Aby recent changes to CSS that broke mobile?', '', '1', '1', 'polskibus', '5/2/2016 10:14'], ['12210105', 'Ask HN: Looking for Employee #3 How do I do it?', '', '1', '3', 'sph130', '8/2/2016 14:20'], ['10394168', 'Ask HN: Someone offered to buy my browser extension from me. What now?', '', '28', '17', 'roykolak', '10/15/2015 16:38']]\n"
     ]
    }
   ],
   "source": [
    "print(ask_posts[:5])"
   ]
  },
  {
   "cell_type": "markdown",
   "metadata": {},
   "source": [
    "We will create a frequency table with key being the hour of the day and value being the average number of comments posted on posts created in that hour."
   ]
  },
  {
   "cell_type": "code",
   "execution_count": 53,
   "metadata": {},
   "outputs": [],
   "source": [
    "import datetime as dt\n",
    "result_list = []\n",
    "for post in ask_posts:\n",
    "    result_list.append([post[-1], int(post[4])])\n",
    "\n",
    "counts_by_hour = {}\n",
    "comments_by_hour = {}\n",
    "for result in result_list:\n",
    "    date_time_object = dt.datetime.strptime(result[0],\n",
    "                                            \"%m/%d/%Y %H:%M\")\n",
    "    hour = date_time_object.strftime(\"%H\")\n",
    "    if hour in counts_by_hour:\n",
    "        counts_by_hour[hour] += 1\n",
    "        comments_by_hour[hour] += result[1]\n",
    "    else:\n",
    "        counts_by_hour[hour] = 1\n",
    "        comments_by_hour[hour] = result[1]"
   ]
  },
  {
   "cell_type": "code",
   "execution_count": 54,
   "metadata": {},
   "outputs": [
    {
     "name": "stdout",
     "output_type": "stream",
     "text": [
      "Posts by hour \n",
      " {\n",
      "  \"09\": 45,\n",
      "  \"13\": 85,\n",
      "  \"10\": 59,\n",
      "  \"14\": 107,\n",
      "  \"16\": 108,\n",
      "  \"23\": 68,\n",
      "  \"12\": 73,\n",
      "  \"17\": 100,\n",
      "  \"15\": 116,\n",
      "  \"21\": 109,\n",
      "  \"20\": 80,\n",
      "  \"02\": 58,\n",
      "  \"18\": 109,\n",
      "  \"03\": 54,\n",
      "  \"05\": 46,\n",
      "  \"19\": 110,\n",
      "  \"01\": 60,\n",
      "  \"22\": 71,\n",
      "  \"08\": 48,\n",
      "  \"04\": 47,\n",
      "  \"00\": 55,\n",
      "  \"06\": 44,\n",
      "  \"07\": 34,\n",
      "  \"11\": 58\n",
      "}\n",
      "Comments by hour \n",
      " {\n",
      "  \"09\": 251,\n",
      "  \"13\": 1253,\n",
      "  \"10\": 793,\n",
      "  \"14\": 1416,\n",
      "  \"16\": 1814,\n",
      "  \"23\": 543,\n",
      "  \"12\": 687,\n",
      "  \"17\": 1146,\n",
      "  \"15\": 4477,\n",
      "  \"21\": 1745,\n",
      "  \"20\": 1722,\n",
      "  \"02\": 1381,\n",
      "  \"18\": 1439,\n",
      "  \"03\": 421,\n",
      "  \"05\": 464,\n",
      "  \"19\": 1188,\n",
      "  \"01\": 683,\n",
      "  \"22\": 479,\n",
      "  \"08\": 492,\n",
      "  \"04\": 337,\n",
      "  \"00\": 447,\n",
      "  \"06\": 397,\n",
      "  \"07\": 267,\n",
      "  \"11\": 641\n",
      "}\n"
     ]
    }
   ],
   "source": [
    "import json\n",
    "print(\"Posts by hour \\n\", json.dumps(counts_by_hour, indent=2))\n",
    "print(\"Comments by hour \\n\", json.dumps(comments_by_hour, indent=2))"
   ]
  },
  {
   "cell_type": "markdown",
   "metadata": {},
   "source": [
    "Let us know find out the avg comments per post by the hour."
   ]
  },
  {
   "cell_type": "code",
   "execution_count": 58,
   "metadata": {},
   "outputs": [],
   "source": [
    "avg_by_hour = []\n",
    "for hour in counts_by_hour:\n",
    "    avg_by_hour.append(\n",
    "        [hour, \n",
    "         round((comments_by_hour[hour]/counts_by_hour[hour]),2)])"
   ]
  },
  {
   "cell_type": "markdown",
   "metadata": {},
   "source": [
    "The average number of comments received by post by the hour are :\n"
   ]
  },
  {
   "cell_type": "code",
   "execution_count": 60,
   "metadata": {},
   "outputs": [
    {
     "name": "stdout",
     "output_type": "stream",
     "text": [
      "[['09', 5.58], ['13', 14.74], ['10', 13.44], ['14', 13.23], ['16', 16.8], ['23', 7.99], ['12', 9.41], ['17', 11.46], ['15', 38.59], ['21', 16.01], ['20', 21.52], ['02', 23.81], ['18', 13.2], ['03', 7.8], ['05', 10.09], ['19', 10.8], ['01', 11.38], ['22', 6.75], ['08', 10.25], ['04', 7.17], ['00', 8.13], ['06', 9.02], ['07', 7.85], ['11', 11.05]]\n"
     ]
    }
   ],
   "source": [
    "print(avg_by_hour)"
   ]
  },
  {
   "cell_type": "markdown",
   "metadata": {},
   "source": [
    "Let us sort the list by descending order and show the five highest value."
   ]
  },
  {
   "cell_type": "code",
   "execution_count": 82,
   "metadata": {},
   "outputs": [],
   "source": [
    "# To sort the list by the avg number of comments we will swap the \n",
    "# columns of the list and then sort\n",
    "\n",
    "swapped_avg_by_hour = []\n",
    "for item in avg_by_hour:\n",
    "    swapped_avg_by_hour.append([item[1], item[0]])\n",
    "\n",
    "sorted_swap = sorted(swapped_avg_by_hour, reverse=True)\n",
    "\n"
   ]
  },
  {
   "cell_type": "markdown",
   "metadata": {},
   "source": [
    "Let us see the five best hours to publish ton receive max traction via number of comments"
   ]
  },
  {
   "cell_type": "code",
   "execution_count": 84,
   "metadata": {},
   "outputs": [
    {
     "name": "stdout",
     "output_type": "stream",
     "text": [
      "15:00 38.59   average comments per post\n",
      "02:00 23.81   average comments per post\n",
      "20:00 21.52   average comments per post\n",
      "16:00 16.8   average comments per post\n",
      "21:00 16.01   average comments per post\n"
     ]
    }
   ],
   "source": [
    "for item in sorted_swap[:5]:\n",
    "    print(\"{}:00 {}   average comments per post\".\n",
    "          format(item[1], item[0]))"
   ]
  },
  {
   "cell_type": "markdown",
   "metadata": {},
   "source": [
    "As we can observe, if we want to receive the maximum comments on our posts, then we should publish in the afternoon around 3pm."
   ]
  },
  {
   "cell_type": "markdown",
   "metadata": {},
   "source": [
    "Further explorations\n",
    "- Convert to your time zone\n",
    "- Determine if show or ask posts receive more points on average.\n",
    "- Determine if posts created at a certain time are more likely to receive more points.\n",
    "- Compare your results to the average number of comments and points other posts receive.\n",
    "- [ A Detailed Exploration](https://nbviewer.org/urls/community.dataquest.io/uploads/short-url/ue205yI1Q81nWJYcE0BeN8YptoF.ipynb)"
   ]
  },
  {
   "cell_type": "code",
   "execution_count": null,
   "metadata": {},
   "outputs": [],
   "source": []
  }
 ],
 "metadata": {
  "kernelspec": {
   "display_name": "Python 3 (ipykernel)",
   "language": "python",
   "name": "python3"
  },
  "language_info": {
   "codemirror_mode": {
    "name": "ipython",
    "version": 3
   },
   "file_extension": ".py",
   "mimetype": "text/x-python",
   "name": "python",
   "nbconvert_exporter": "python",
   "pygments_lexer": "ipython3",
   "version": "3.9.5"
  }
 },
 "nbformat": 4,
 "nbformat_minor": 4
}
